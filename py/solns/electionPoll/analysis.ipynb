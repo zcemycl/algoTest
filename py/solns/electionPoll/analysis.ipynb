{
 "cells": [
  {
   "cell_type": "code",
   "execution_count": 3,
   "metadata": {},
   "outputs": [],
   "source": [
    "import numpy as np\n",
    "import pandas as pd\n",
    "from electionPoll import *"
   ]
  },
  {
   "cell_type": "code",
   "execution_count": 4,
   "metadata": {},
   "outputs": [],
   "source": [
    "df = Solution.readdf()"
   ]
  },
  {
   "cell_type": "code",
   "execution_count": 5,
   "metadata": {},
   "outputs": [
    {
     "data": {
      "text/html": [
       "<div>\n",
       "<style scoped>\n",
       "    .dataframe tbody tr th:only-of-type {\n",
       "        vertical-align: middle;\n",
       "    }\n",
       "\n",
       "    .dataframe tbody tr th {\n",
       "        vertical-align: top;\n",
       "    }\n",
       "\n",
       "    .dataframe thead th {\n",
       "        text-align: right;\n",
       "    }\n",
       "</style>\n",
       "<table border=\"1\" class=\"dataframe\">\n",
       "  <thead>\n",
       "    <tr style=\"text-align: right;\">\n",
       "      <th></th>\n",
       "      <th>Date \\ Party</th>\n",
       "      <th>National Party</th>\n",
       "      <th>People's Party</th>\n",
       "      <th>Alliance Party</th>\n",
       "      <th>Civic Party</th>\n",
       "      <th>Conservative Party</th>\n",
       "      <th>Liberal Party</th>\n",
       "      <th>Workers' Party</th>\n",
       "    </tr>\n",
       "  </thead>\n",
       "  <tbody>\n",
       "    <tr>\n",
       "      <th>0</th>\n",
       "      <td>2019-01-01</td>\n",
       "      <td>0</td>\n",
       "      <td>20</td>\n",
       "      <td>27</td>\n",
       "      <td>26</td>\n",
       "      <td>1</td>\n",
       "      <td>3</td>\n",
       "      <td>23</td>\n",
       "    </tr>\n",
       "    <tr>\n",
       "      <th>1</th>\n",
       "      <td>2019-01-02</td>\n",
       "      <td>0</td>\n",
       "      <td>19</td>\n",
       "      <td>28</td>\n",
       "      <td>26</td>\n",
       "      <td>1</td>\n",
       "      <td>4</td>\n",
       "      <td>22</td>\n",
       "    </tr>\n",
       "    <tr>\n",
       "      <th>2</th>\n",
       "      <td>2019-01-03</td>\n",
       "      <td>0</td>\n",
       "      <td>20</td>\n",
       "      <td>29</td>\n",
       "      <td>27</td>\n",
       "      <td>0</td>\n",
       "      <td>3</td>\n",
       "      <td>21</td>\n",
       "    </tr>\n",
       "    <tr>\n",
       "      <th>3</th>\n",
       "      <td>2019-01-04</td>\n",
       "      <td>0</td>\n",
       "      <td>22</td>\n",
       "      <td>25</td>\n",
       "      <td>25</td>\n",
       "      <td>1</td>\n",
       "      <td>2</td>\n",
       "      <td>25</td>\n",
       "    </tr>\n",
       "    <tr>\n",
       "      <th>4</th>\n",
       "      <td>2019-01-05</td>\n",
       "      <td>0</td>\n",
       "      <td>24</td>\n",
       "      <td>22</td>\n",
       "      <td>21</td>\n",
       "      <td>4</td>\n",
       "      <td>1</td>\n",
       "      <td>28</td>\n",
       "    </tr>\n",
       "  </tbody>\n",
       "</table>\n",
       "</div>"
      ],
      "text/plain": [
       "  Date \\ Party  National Party  People's Party  Alliance Party  Civic Party  \\\n",
       "0   2019-01-01               0              20              27           26   \n",
       "1   2019-01-02               0              19              28           26   \n",
       "2   2019-01-03               0              20              29           27   \n",
       "3   2019-01-04               0              22              25           25   \n",
       "4   2019-01-05               0              24              22           21   \n",
       "\n",
       "   Conservative Party  Liberal Party  Workers' Party  \n",
       "0                   1              3              23  \n",
       "1                   1              4              22  \n",
       "2                   0              3              21  \n",
       "3                   1              2              25  \n",
       "4                   4              1              28  "
      ]
     },
     "execution_count": 5,
     "metadata": {},
     "output_type": "execute_result"
    }
   ],
   "source": [
    "df.head(5)"
   ]
  },
  {
   "cell_type": "code",
   "execution_count": 6,
   "metadata": {},
   "outputs": [
    {
     "data": {
      "text/plain": [
       "28.7"
      ]
     },
     "execution_count": 6,
     "metadata": {},
     "output_type": "execute_result"
    }
   ],
   "source": [
    "round(np.mean(df[\"Workers' Party\"]),1)"
   ]
  },
  {
   "cell_type": "code",
   "execution_count": 7,
   "metadata": {},
   "outputs": [
    {
     "data": {
      "text/plain": [
       "29"
      ]
     },
     "execution_count": 7,
     "metadata": {},
     "output_type": "execute_result"
    }
   ],
   "source": [
    "round(np.median(df[\"Workers' Party\"]))"
   ]
  },
  {
   "cell_type": "code",
   "execution_count": 8,
   "metadata": {},
   "outputs": [
    {
     "data": {
      "text/plain": [
       "3.8"
      ]
     },
     "execution_count": 8,
     "metadata": {},
     "output_type": "execute_result"
    }
   ],
   "source": [
    "round(df[\"Workers' Party\"].std(),1)"
   ]
  },
  {
   "cell_type": "code",
   "execution_count": 9,
   "metadata": {},
   "outputs": [
    {
     "name": "stdout",
     "output_type": "stream",
     "text": [
      "24 33\n"
     ]
    }
   ],
   "source": [
    "tmpdf = df[df[\"Date \\ Party\"].str.contains(\"2019-03-\")][\"Workers' Party\"]\n",
    "print(tmpdf.min(),tmpdf.max())"
   ]
  },
  {
   "cell_type": "code",
   "execution_count": 8,
   "metadata": {},
   "outputs": [
    {
     "name": "stdout",
     "output_type": "stream",
     "text": [
      "National Party --------\n",
      "343 18\n",
      "People's Party --------\n",
      "4 24\n",
      "Alliance Party --------\n",
      "16 36\n",
      "Civic Party --------\n",
      "352 37\n",
      "Conservative Party --------\n",
      "7 6\n",
      "Liberal Party --------\n",
      "219 29\n",
      "Workers' Party --------\n",
      "221 36\n"
     ]
    }
   ],
   "source": [
    "for party in list(df.columns)[1:]:\n",
    "    print(party,\"--------\")\n",
    "    idx = df[party].argmax()\n",
    "    print(idx,df[party].iloc[idx])"
   ]
  },
  {
   "cell_type": "code",
   "execution_count": 9,
   "metadata": {},
   "outputs": [
    {
     "data": {
      "text/plain": [
       "Date \\ Party          2019-12-19\n",
       "National Party                11\n",
       "People's Party                 2\n",
       "Alliance Party                 4\n",
       "Civic Party                   37\n",
       "Conservative Party             3\n",
       "Liberal Party                 12\n",
       "Workers' Party                31\n",
       "Name: 352, dtype: object"
      ]
     },
     "execution_count": 9,
     "metadata": {},
     "output_type": "execute_result"
    }
   ],
   "source": [
    "df.iloc[352]"
   ]
  },
  {
   "cell_type": "code",
   "execution_count": 10,
   "metadata": {},
   "outputs": [
    {
     "name": "stdout",
     "output_type": "stream",
     "text": [
      "National Party --------\n",
      "18\n",
      "People's Party --------\n",
      "24\n",
      "Alliance Party --------\n",
      "34\n",
      "Civic Party --------\n",
      "19\n",
      "Conservative Party --------\n",
      "6\n",
      "Liberal Party --------\n",
      "29\n",
      "Workers' Party --------\n",
      "22\n"
     ]
    }
   ],
   "source": [
    "for party in list(df.columns)[1:]:\n",
    "    print(party,\"--------\")\n",
    "    print(df[party].max()-df[party].min())"
   ]
  },
  {
   "cell_type": "code",
   "execution_count": null,
   "metadata": {},
   "outputs": [],
   "source": []
  }
 ],
 "metadata": {
  "kernelspec": {
   "display_name": "base",
   "language": "python",
   "name": "base"
  },
  "language_info": {
   "codemirror_mode": {
    "name": "ipython",
    "version": 3
   },
   "file_extension": ".py",
   "mimetype": "text/x-python",
   "name": "python",
   "nbconvert_exporter": "python",
   "pygments_lexer": "ipython3",
   "version": "3.7.4"
  }
 },
 "nbformat": 4,
 "nbformat_minor": 2
}
