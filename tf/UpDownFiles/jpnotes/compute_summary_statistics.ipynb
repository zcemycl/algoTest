{
 "cells": [
  {
   "cell_type": "code",
   "execution_count": 1,
   "id": "eb7f0230",
   "metadata": {},
   "outputs": [],
   "source": [
    "import pandas as pd\n",
    "import numpy as np\n",
    "import matplotlib.pyplot as plt\n",
    "import math\n",
    "from IPython.display import display\n",
    "\n",
    "pd.set_option('display.max_rows', None)\n",
    "PATH = \"Ohio Contributions - Contributions.csv\""
   ]
  },
  {
   "cell_type": "code",
   "execution_count": 2,
   "id": "153db6b8",
   "metadata": {},
   "outputs": [
    {
     "data": {
      "text/html": [
       "<div>\n",
       "<style scoped>\n",
       "    .dataframe tbody tr th:only-of-type {\n",
       "        vertical-align: middle;\n",
       "    }\n",
       "\n",
       "    .dataframe tbody tr th {\n",
       "        vertical-align: top;\n",
       "    }\n",
       "\n",
       "    .dataframe thead th {\n",
       "        text-align: right;\n",
       "    }\n",
       "</style>\n",
       "<table border=\"1\" class=\"dataframe\">\n",
       "  <thead>\n",
       "    <tr style=\"text-align: right;\">\n",
       "      <th></th>\n",
       "      <th>candidate_id</th>\n",
       "      <th>candidate</th>\n",
       "      <th>contributor_name</th>\n",
       "      <th>contributor_state</th>\n",
       "      <th>contributor_occupation</th>\n",
       "      <th>amount</th>\n",
       "      <th>date</th>\n",
       "    </tr>\n",
       "  </thead>\n",
       "  <tbody>\n",
       "    <tr>\n",
       "      <th>0</th>\n",
       "      <td>P80000748</td>\n",
       "      <td>Paul, Ron</td>\n",
       "      <td>BROWN, TODD W MR.</td>\n",
       "      <td>OH</td>\n",
       "      <td>ENGINEER</td>\n",
       "      <td>50.0</td>\n",
       "      <td>6/12/2011</td>\n",
       "    </tr>\n",
       "    <tr>\n",
       "      <th>1</th>\n",
       "      <td>P80000748</td>\n",
       "      <td>Paul, Ron</td>\n",
       "      <td>DIEHL, MARGO SONJA</td>\n",
       "      <td>OH</td>\n",
       "      <td>RETIRED</td>\n",
       "      <td>25.0</td>\n",
       "      <td>6/12/2011</td>\n",
       "    </tr>\n",
       "    <tr>\n",
       "      <th>2</th>\n",
       "      <td>P80000748</td>\n",
       "      <td>Paul, Ron</td>\n",
       "      <td>KIRCHMEYER, BENJAMIN</td>\n",
       "      <td>OH</td>\n",
       "      <td>COMPUTER PROGRAMMER</td>\n",
       "      <td>201.2</td>\n",
       "      <td>6/12/2011</td>\n",
       "    </tr>\n",
       "    <tr>\n",
       "      <th>3</th>\n",
       "      <td>P80003338</td>\n",
       "      <td>Obama, Barack</td>\n",
       "      <td>KEYES, STEPHEN</td>\n",
       "      <td>OH</td>\n",
       "      <td>HR EXECUTIVE / ATTORNEY</td>\n",
       "      <td>100.0</td>\n",
       "      <td>30/9/2011</td>\n",
       "    </tr>\n",
       "    <tr>\n",
       "      <th>4</th>\n",
       "      <td>P80003338</td>\n",
       "      <td>Obama, Barack</td>\n",
       "      <td>MURPHY, MIKE W</td>\n",
       "      <td>OH</td>\n",
       "      <td>MANAGER</td>\n",
       "      <td>50.0</td>\n",
       "      <td>26/9/2011</td>\n",
       "    </tr>\n",
       "  </tbody>\n",
       "</table>\n",
       "</div>"
      ],
      "text/plain": [
       "  candidate_id      candidate      contributor_name contributor_state  \\\n",
       "0    P80000748      Paul, Ron     BROWN, TODD W MR.                OH   \n",
       "1    P80000748      Paul, Ron    DIEHL, MARGO SONJA                OH   \n",
       "2    P80000748      Paul, Ron  KIRCHMEYER, BENJAMIN                OH   \n",
       "3    P80003338  Obama, Barack        KEYES, STEPHEN                OH   \n",
       "4    P80003338  Obama, Barack        MURPHY, MIKE W                OH   \n",
       "\n",
       "    contributor_occupation  amount       date  \n",
       "0                 ENGINEER    50.0  6/12/2011  \n",
       "1                  RETIRED    25.0  6/12/2011  \n",
       "2      COMPUTER PROGRAMMER   201.2  6/12/2011  \n",
       "3  HR EXECUTIVE / ATTORNEY   100.0  30/9/2011  \n",
       "4                  MANAGER    50.0  26/9/2011  "
      ]
     },
     "execution_count": 2,
     "metadata": {},
     "output_type": "execute_result"
    }
   ],
   "source": [
    "df = pd.read_csv(PATH)\n",
    "df.head(5)"
   ]
  },
  {
   "cell_type": "code",
   "execution_count": 3,
   "id": "e6254af3",
   "metadata": {},
   "outputs": [
    {
     "data": {
      "text/plain": [
       "(151479, 7)"
      ]
     },
     "execution_count": 3,
     "metadata": {},
     "output_type": "execute_result"
    }
   ],
   "source": [
    "df.shape"
   ]
  },
  {
   "cell_type": "code",
   "execution_count": 4,
   "id": "77ff825b",
   "metadata": {},
   "outputs": [
    {
     "data": {
      "text/plain": [
       "count      150481\n",
       "unique       6843\n",
       "top       RETIRED\n",
       "freq        38151\n",
       "Name: contributor_occupation, dtype: object"
      ]
     },
     "execution_count": 4,
     "metadata": {},
     "output_type": "execute_result"
    }
   ],
   "source": [
    "df[\"contributor_occupation\"].describe()"
   ]
  },
  {
   "cell_type": "code",
   "execution_count": 5,
   "id": "426faed1",
   "metadata": {},
   "outputs": [
    {
     "data": {
      "text/html": [
       "<div>\n",
       "<style scoped>\n",
       "    .dataframe tbody tr th:only-of-type {\n",
       "        vertical-align: middle;\n",
       "    }\n",
       "\n",
       "    .dataframe tbody tr th {\n",
       "        vertical-align: top;\n",
       "    }\n",
       "\n",
       "    .dataframe thead th {\n",
       "        text-align: right;\n",
       "    }\n",
       "</style>\n",
       "<table border=\"1\" class=\"dataframe\">\n",
       "  <thead>\n",
       "    <tr style=\"text-align: right;\">\n",
       "      <th></th>\n",
       "      <th>contributor_occupation</th>\n",
       "      <th>counts</th>\n",
       "    </tr>\n",
       "  </thead>\n",
       "  <tbody>\n",
       "    <tr>\n",
       "      <th>0</th>\n",
       "      <td>RETIRED</td>\n",
       "      <td>38151</td>\n",
       "    </tr>\n",
       "    <tr>\n",
       "      <th>1</th>\n",
       "      <td>INFORMATION REQUESTED PER BEST EFFORTS</td>\n",
       "      <td>5778</td>\n",
       "    </tr>\n",
       "    <tr>\n",
       "      <th>2</th>\n",
       "      <td>HOMEMAKER</td>\n",
       "      <td>4674</td>\n",
       "    </tr>\n",
       "    <tr>\n",
       "      <th>3</th>\n",
       "      <td>PHYSICIAN</td>\n",
       "      <td>4458</td>\n",
       "    </tr>\n",
       "    <tr>\n",
       "      <th>4</th>\n",
       "      <td>ATTORNEY</td>\n",
       "      <td>4056</td>\n",
       "    </tr>\n",
       "    <tr>\n",
       "      <th>5</th>\n",
       "      <td>INFORMATION REQUESTED</td>\n",
       "      <td>3819</td>\n",
       "    </tr>\n",
       "    <tr>\n",
       "      <th>6</th>\n",
       "      <td>PROFESSOR</td>\n",
       "      <td>3380</td>\n",
       "    </tr>\n",
       "    <tr>\n",
       "      <th>7</th>\n",
       "      <td>TEACHER</td>\n",
       "      <td>2686</td>\n",
       "    </tr>\n",
       "    <tr>\n",
       "      <th>8</th>\n",
       "      <td>ENGINEER</td>\n",
       "      <td>1910</td>\n",
       "    </tr>\n",
       "    <tr>\n",
       "      <th>9</th>\n",
       "      <td>MANAGER</td>\n",
       "      <td>1592</td>\n",
       "    </tr>\n",
       "  </tbody>\n",
       "</table>\n",
       "</div>"
      ],
      "text/plain": [
       "                   contributor_occupation  counts\n",
       "0                                 RETIRED   38151\n",
       "1  INFORMATION REQUESTED PER BEST EFFORTS    5778\n",
       "2                               HOMEMAKER    4674\n",
       "3                               PHYSICIAN    4458\n",
       "4                                ATTORNEY    4056\n",
       "5                   INFORMATION REQUESTED    3819\n",
       "6                               PROFESSOR    3380\n",
       "7                                 TEACHER    2686\n",
       "8                                ENGINEER    1910\n",
       "9                                 MANAGER    1592"
      ]
     },
     "execution_count": 5,
     "metadata": {},
     "output_type": "execute_result"
    }
   ],
   "source": [
    "df_tmp = df[\"contributor_occupation\"]\\\n",
    "    .value_counts().rename_axis('contributor_occupation').reset_index(name='counts')\n",
    "df_tmp.head(10)"
   ]
  },
  {
   "cell_type": "code",
   "execution_count": 6,
   "id": "bf876bd4",
   "metadata": {},
   "outputs": [],
   "source": [
    "df_tmp.to_csv(\"new.csv\",index=False)"
   ]
  },
  {
   "cell_type": "code",
   "execution_count": 7,
   "id": "384683b3",
   "metadata": {},
   "outputs": [
    {
     "data": {
      "text/html": [
       "<div>\n",
       "<style scoped>\n",
       "    .dataframe tbody tr th:only-of-type {\n",
       "        vertical-align: middle;\n",
       "    }\n",
       "\n",
       "    .dataframe tbody tr th {\n",
       "        vertical-align: top;\n",
       "    }\n",
       "\n",
       "    .dataframe thead th {\n",
       "        text-align: right;\n",
       "    }\n",
       "</style>\n",
       "<table border=\"1\" class=\"dataframe\">\n",
       "  <thead>\n",
       "    <tr style=\"text-align: right;\">\n",
       "      <th></th>\n",
       "      <th>contributor_occupation</th>\n",
       "      <th>counts</th>\n",
       "    </tr>\n",
       "  </thead>\n",
       "  <tbody>\n",
       "    <tr>\n",
       "      <th>0</th>\n",
       "      <td>RETIRED</td>\n",
       "      <td>38151</td>\n",
       "    </tr>\n",
       "    <tr>\n",
       "      <th>1</th>\n",
       "      <td>INFORMATION REQUESTED PER BEST EFFORTS</td>\n",
       "      <td>5778</td>\n",
       "    </tr>\n",
       "    <tr>\n",
       "      <th>2</th>\n",
       "      <td>HOMEMAKER</td>\n",
       "      <td>4674</td>\n",
       "    </tr>\n",
       "    <tr>\n",
       "      <th>3</th>\n",
       "      <td>PHYSICIAN</td>\n",
       "      <td>4458</td>\n",
       "    </tr>\n",
       "    <tr>\n",
       "      <th>4</th>\n",
       "      <td>ATTORNEY</td>\n",
       "      <td>4056</td>\n",
       "    </tr>\n",
       "    <tr>\n",
       "      <th>5</th>\n",
       "      <td>INFORMATION REQUESTED</td>\n",
       "      <td>3819</td>\n",
       "    </tr>\n",
       "    <tr>\n",
       "      <th>6</th>\n",
       "      <td>PROFESSOR</td>\n",
       "      <td>3380</td>\n",
       "    </tr>\n",
       "    <tr>\n",
       "      <th>7</th>\n",
       "      <td>TEACHER</td>\n",
       "      <td>2686</td>\n",
       "    </tr>\n",
       "    <tr>\n",
       "      <th>8</th>\n",
       "      <td>ENGINEER</td>\n",
       "      <td>1910</td>\n",
       "    </tr>\n",
       "    <tr>\n",
       "      <th>9</th>\n",
       "      <td>MANAGER</td>\n",
       "      <td>1592</td>\n",
       "    </tr>\n",
       "  </tbody>\n",
       "</table>\n",
       "</div>"
      ],
      "text/plain": [
       "                   contributor_occupation  counts\n",
       "0                                 RETIRED   38151\n",
       "1  INFORMATION REQUESTED PER BEST EFFORTS    5778\n",
       "2                               HOMEMAKER    4674\n",
       "3                               PHYSICIAN    4458\n",
       "4                                ATTORNEY    4056\n",
       "5                   INFORMATION REQUESTED    3819\n",
       "6                               PROFESSOR    3380\n",
       "7                                 TEACHER    2686\n",
       "8                                ENGINEER    1910\n",
       "9                                 MANAGER    1592"
      ]
     },
     "execution_count": 7,
     "metadata": {},
     "output_type": "execute_result"
    }
   ],
   "source": [
    "df2 = pd.read_csv(\"new.csv\")\n",
    "df2.head(10)"
   ]
  },
  {
   "cell_type": "code",
   "execution_count": null,
   "id": "fe7f5afc",
   "metadata": {},
   "outputs": [],
   "source": []
  }
 ],
 "metadata": {
  "kernelspec": {
   "display_name": "Python 3 (ipykernel)",
   "language": "python",
   "name": "python3"
  },
  "language_info": {
   "codemirror_mode": {
    "name": "ipython",
    "version": 3
   },
   "file_extension": ".py",
   "mimetype": "text/x-python",
   "name": "python",
   "nbconvert_exporter": "python",
   "pygments_lexer": "ipython3",
   "version": "3.8.9"
  }
 },
 "nbformat": 4,
 "nbformat_minor": 5
}
